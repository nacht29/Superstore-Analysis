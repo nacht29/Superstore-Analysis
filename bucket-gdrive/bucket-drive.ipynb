{
 "cells": [
  {
   "cell_type": "code",
   "execution_count": 167,
   "metadata": {},
   "outputs": [],
   "source": [
    "# !pip install google-cloud-storage\n",
    "# !pip install subprocess\n",
    "# !pip install google-drive\n",
    "# !pip install google-api-python-client\n",
    "# !pip install google-auth-httplib2 \n",
    "# !pip install google-auth-oauthlib"
   ]
  },
  {
   "cell_type": "code",
   "execution_count": 168,
   "metadata": {},
   "outputs": [],
   "source": [
    "import os\n",
    "import warnings\n",
    "import subprocess\n",
    "import pandas as pd\n",
    "from datetime import date\n",
    "from google.cloud import bigquery as bq\n",
    "from google.cloud import storage\n",
    "from google.oauth2 import service_account\n",
    "from googleapiclient.discovery import build\n",
    "from google.api_core.exceptions import Forbidden, NotFound"
   ]
  },
  {
   "cell_type": "code",
   "execution_count": 169,
   "metadata": {},
   "outputs": [],
   "source": [
    "warnings.filterwarnings('ignore')\n",
    "pd.set_option('display.max_columns', None) # show max columns\n",
    "\n",
    "bq_key_path = \"explore29-5a4f7581e39f.json\"\n",
    "bq_credentials = service_account.Credentials.from_service_account_file(bq_key_path)\n",
    "bq_client = bq.Client(credentials=bq_credentials, project=bq_credentials.project_id)\n",
    "\n",
    "bucket_key_path = \"test_bucket_gdrive.json\"\n",
    "bucket_credentials = service_account.Credentials.from_service_account_file(bucket_key_path)\n",
    "bucket_client = storage.Client(credentials=bucket_credentials, project=bucket_credentials.project_id)"
   ]
  },
  {
   "cell_type": "code",
   "execution_count": 170,
   "metadata": {},
   "outputs": [],
   "source": [
    "def gen_file_name():\n",
    "    return f'results_{str(date.today())}.csv'"
   ]
  },
  {
   "cell_type": "code",
   "execution_count": 171,
   "metadata": {},
   "outputs": [],
   "source": [
    "def query_data():\n",
    "\n",
    "\twith open('test.sql', 'r') as file:\n",
    "\t\tquery = ' '.join([line for line in file])\n",
    "\n",
    "\tfile_name = gen_file_name()\n",
    "\n",
    "\tresults = bq_client.query(query).to_dataframe()\n",
    "\n",
    "\tresults.to_csv(file_name, sep='|', encoding='utf-8', index=False, header=True)\n",
    "\n",
    "query_data()"
   ]
  },
  {
   "cell_type": "code",
   "execution_count": 172,
   "metadata": {},
   "outputs": [],
   "source": [
    "def load_bq():\n",
    "\tfile_name = gen_file_name()\n",
    "\n",
    "\tbucket = bucket_client.get_bucket('bucket_drive_test')\n",
    "\n",
    "\tbucket.blob(file_name).upload_from_filename(file_name)\n",
    "\n",
    "load_bq()"
   ]
  },
  {
   "cell_type": "markdown",
   "metadata": {},
   "source": [
    "\n",
    "\n",
    "<details>\n",
    "<small>\n",
    "\n",
    "<summary>how ```response``` looks like</summary>\n",
    "\n",
    "```py\n",
    "response = {\n",
    "\t'files': [{'id': '1GETX0fkc1M5DL1XjzGwZ9iXr6Lm9GYdn', 'name': 'results_2025-03-10.csv'},\n",
    "\t\t\t{'id': '2HFTX0fkc1M5DL1XjzGwZ9iXr6Lm9GYdn', 'name': 'results_2025-03-10.csv'}\n",
    "\t]\n",
    "}\n",
    "```\n",
    "\n",
    "</small>\n",
    "</details>"
   ]
  },
  {
   "cell_type": "code",
   "execution_count": 173,
   "metadata": {},
   "outputs": [],
   "source": [
    "SCOPES = ['https://www.googleapis.com/auth/drive']\n",
    "SERVICE_ACCOUNT = 'test_bucket_gdrive.json'\n",
    "PARENT_FOLDER_ID = '1OLll_SpLxMhVC5kY3ISu0lf0cdF01_pP'\n",
    "\n",
    "def authenticate():\n",
    "\tcreds = service_account.Credentials.from_service_account_file(SERVICE_ACCOUNT, scopes=SCOPES)\n",
    "\treturn creds\n",
    "\n",
    "def load_gdrive():\n",
    "\tcreds = authenticate()\n",
    "\tservice = build('drive', 'v3', credentials=creds)\n",
    "\tfile_name = gen_file_name()\n",
    "\n",
    "\tquery = f\"'{PARENT_FOLDER_ID}' in parents and trashed=false\"\n",
    "\n",
    "\t# returns a list of file ids\n",
    "\t# e.g. \n",
    "\tresponse = service.files().list(q=query, fields='files(id, name)').execute()\n",
    "\n",
    "\t# .get() retrieves the value for a given key. \n",
    "\t# if the key is missing, returns default value (or None) instead of raising KeyError.\n",
    "\tfiles = response.get('files') # response.get('files', [])\n",
    "\n",
    "\tif files:\n",
    "\t\tfor file in files:\n",
    "\t\t\tservice.files().delete(fileId=file['id']).execute()\n",
    "\n",
    "\tfile_metadata = {\n",
    "\t\t'name': file_name,\n",
    "\t\t# parent must be a LIST\n",
    "\t\t'parents': [PARENT_FOLDER_ID]\n",
    "\t}\n",
    "\n",
    "\tfile = service.files().create(\n",
    "\t\tbody=file_metadata,\n",
    "\t\tmedia_body=file_name # file path\n",
    "\t).execute()\n",
    "\n",
    "load_gdrive()"
   ]
  },
  {
   "cell_type": "code",
   "execution_count": 174,
   "metadata": {},
   "outputs": [],
   "source": [
    "os.remove(gen_file_name())"
   ]
  }
 ],
 "metadata": {
  "kernelspec": {
   "display_name": "Python 3",
   "language": "python",
   "name": "python3"
  },
  "language_info": {
   "codemirror_mode": {
    "name": "ipython",
    "version": 3
   },
   "file_extension": ".py",
   "mimetype": "text/x-python",
   "name": "python",
   "nbconvert_exporter": "python",
   "pygments_lexer": "ipython3",
   "version": "3.13.0"
  }
 },
 "nbformat": 4,
 "nbformat_minor": 2
}
