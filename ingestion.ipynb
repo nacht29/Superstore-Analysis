{
 "cells": [
  {
   "cell_type": "markdown",
   "metadata": {},
   "source": [
    "## Installing dependencies"
   ]
  },
  {
   "cell_type": "code",
   "execution_count": 19,
   "metadata": {},
   "outputs": [],
   "source": [
    "# !pip install xlrd\n",
    "# !pip install pandas\n",
    "# !pip install numpy\n",
    "# !pip install mysql-connector-python\n",
    "# !pip install sqlalchemy\n",
    "# !pip install pymysql\n",
    "# !pip install google-cloud-bigquery\n",
    "# !pip install db-dtypes\n",
    "# !pip install db-dtypes"
   ]
  },
  {
   "cell_type": "markdown",
   "metadata": {},
   "source": [
    "---"
   ]
  },
  {
   "cell_type": "markdown",
   "metadata": {},
   "source": [
    "## Set up environment"
   ]
  },
  {
   "cell_type": "code",
   "execution_count": null,
   "metadata": {},
   "outputs": [],
   "source": [
    "import re\n",
    "import os\n",
    "import warnings\n",
    "import pandas as pd\n",
    "import numpy as np\n",
    "import mysql.connector as mysql\n",
    "from sqlalchemy import create_engine, text\n",
    "from sqlalchemy.exc import *\n",
    "from google.cloud import bigquery as bq\n",
    "from google.oauth2 import service_account\n",
    "from google.api_core.exceptions import *\n",
    "\n",
    "warnings.filterwarnings('ignore')\n",
    "os.environ['GOOGLE_APPLICATION_CREDENTIALS'] = 'explore29-66295ccb78c3.json'"
   ]
  },
  {
   "cell_type": "markdown",
   "metadata": {},
   "source": [
    "---"
   ]
  },
  {
   "cell_type": "markdown",
   "metadata": {},
   "source": [
    "## Import data"
   ]
  },
  {
   "cell_type": "code",
   "execution_count": 2,
   "metadata": {},
   "outputs": [],
   "source": [
    "file_path = 'data-src/sample2.xls'\n",
    "orders_df = pd.read_excel(file_path, sheet_name='Orders', header=0)\n",
    "people_df = pd.read_excel(file_path, sheet_name='People', header=0)\n",
    "returns_df = pd.read_excel(file_path, sheet_name='Returns', header=0)"
   ]
  },
  {
   "cell_type": "markdown",
   "metadata": {},
   "source": [
    "---"
   ]
  },
  {
   "cell_type": "markdown",
   "metadata": {},
   "source": [
    "## Formatting functions"
   ]
  },
  {
   "cell_type": "code",
   "execution_count": 3,
   "metadata": {},
   "outputs": [],
   "source": [
    "def snake_case(data:str) -> str:\n",
    "\treturn(data.lower().strip().replace(' ','_').replace('-', '_'))\n",
    "\n",
    "def std_null(data):\n",
    "\tif pd.isna(data):\n",
    "\t\treturn None\n",
    "\tif isinstance(data, str):\n",
    "\t\tdata = data.strip()\n",
    "\t\treturn None if data.lower() in ['null', ''] else data\n",
    "\treturn data"
   ]
  },
  {
   "cell_type": "markdown",
   "metadata": {},
   "source": [
    "---"
   ]
  },
  {
   "cell_type": "markdown",
   "metadata": {},
   "source": [
    "## Process ```Orders```"
   ]
  },
  {
   "cell_type": "markdown",
   "metadata": {},
   "source": [
    "### Format headers (columns)"
   ]
  },
  {
   "cell_type": "code",
   "execution_count": 4,
   "metadata": {},
   "outputs": [],
   "source": [
    "try:\n",
    "\torders_df = orders_df.rename(columns={\n",
    "\t'Country/Region': 'country',\n",
    "\t'State/Province': 'province',\n",
    "\t'Postal Code': 'post_code'\n",
    "})\n",
    "except Exception as error:\n",
    "\tprint(f'Failed to reformat headers for orders table: {error}')\n",
    "\t\n",
    "orders_df.columns = [snake_case(col) for col in orders_df.columns]"
   ]
  },
  {
   "cell_type": "markdown",
   "metadata": {},
   "source": [
    "### Aggregate rows"
   ]
  },
  {
   "cell_type": "code",
   "execution_count": 5,
   "metadata": {},
   "outputs": [],
   "source": [
    "agg_instruction = {col: ('sum' if col in ['sales', 'quantity', 'profit'] else 'last') for col in list(orders_df.columns)}\n",
    "orders_df = orders_df.groupby(['order_id', 'product_id'], as_index=False).agg(agg_instruction)"
   ]
  },
  {
   "cell_type": "markdown",
   "metadata": {},
   "source": [
    "### Format numerical data"
   ]
  },
  {
   "cell_type": "code",
   "execution_count": 6,
   "metadata": {},
   "outputs": [],
   "source": [
    "orders_df['sales'] = orders_df['sales'].astype(float).round(2)\n",
    "orders_df['quantity'] = orders_df['quantity'].astype(int).round(2)\n",
    "orders_df['discount'] = orders_df['discount'].astype(float).round(2)\n",
    "orders_df['profit'] = orders_df['profit'].astype(float).round(2)"
   ]
  },
  {
   "cell_type": "markdown",
   "metadata": {},
   "source": [
    "---"
   ]
  },
  {
   "cell_type": "markdown",
   "metadata": {},
   "source": [
    "## Process ```People```"
   ]
  },
  {
   "cell_type": "markdown",
   "metadata": {},
   "source": [
    "### Format headers"
   ]
  },
  {
   "cell_type": "code",
   "execution_count": 7,
   "metadata": {},
   "outputs": [],
   "source": [
    "people_df = people_df.rename(columns={\n",
    "\t'Regional Manager': 'manager',\n",
    "\t'Region': 'region'\n",
    "})"
   ]
  },
  {
   "cell_type": "markdown",
   "metadata": {},
   "source": [
    "### NULL/Missing values and duplicates"
   ]
  },
  {
   "cell_type": "code",
   "execution_count": 8,
   "metadata": {},
   "outputs": [],
   "source": [
    "## handle duplicates\n",
    "people_df = people_df.drop_duplicates()\n",
    "\n",
    "## handle null values\n",
    "people_df = people_df.applymap(std_null)"
   ]
  },
  {
   "cell_type": "markdown",
   "metadata": {},
   "source": [
    "---"
   ]
  },
  {
   "cell_type": "markdown",
   "metadata": {},
   "source": [
    "## Process ```Returns```"
   ]
  },
  {
   "cell_type": "markdown",
   "metadata": {},
   "source": [
    "### Format headers"
   ]
  },
  {
   "cell_type": "code",
   "execution_count": 9,
   "metadata": {},
   "outputs": [],
   "source": [
    "returns_df.columns = [snake_case(col) for col in returns_df.columns]"
   ]
  },
  {
   "cell_type": "markdown",
   "metadata": {},
   "source": [
    "#### Merge with ```Orders```"
   ]
  },
  {
   "cell_type": "code",
   "execution_count": null,
   "metadata": {},
   "outputs": [],
   "source": [
    "orders_oid_count = orders_df['order_id'].value_counts().reset_index()\n",
    "orders_oid_count.columns = ['order_id', 'orders_oid_count']\n",
    "\n",
    "returns_oid_count = returns_df['order_id'].value_counts().reset_index()\n",
    "returns_oid_count.columns = ['order_id', 'returns_oid_count']\n",
    "\n",
    "same_id_entries = orders_oid_count.merge(returns_oid_count, on='order_id', how='inner')\n",
    "mismatch = len(same_id_entries[same_id_entries['orders_oid_count'] != same_id_entries['returns_oid_count']])\n",
    "\n",
    "if mismatch == 0:\n",
    "\torders_df['returned'] = orders_df['order_id'].isin(returns_df['order_id']).map({True: 'Yes', False: 'No'})\n",
    "\torders_df = orders_df.applymap(std_null) # handle null values here for orders_df"
   ]
  },
  {
   "cell_type": "markdown",
   "metadata": {},
   "source": [
    "---"
   ]
  },
  {
   "cell_type": "markdown",
   "metadata": {},
   "source": [
    "## Loading data to Bigquery"
   ]
  },
  {
   "cell_type": "markdown",
   "metadata": {},
   "source": [
    "### Restructure"
   ]
  },
  {
   "cell_type": "code",
   "execution_count": 11,
   "metadata": {},
   "outputs": [],
   "source": [
    "orders = orders_df[['order_id', 'order_date', 'ship_date', 'ship_mode', 'customer_id', 'product_id', 'sales', 'quantity', 'discount', 'profit', 'returned']]\n",
    "customers = orders_df[['customer_id', 'customer_name', 'segment', 'country', 'city', 'province', 'post_code', 'region']].drop_duplicates(subset=['customer_id'])\n",
    "products = orders_df[['product_id', 'product_name', 'category', 'sub_category']].drop_duplicates(subset=['product_id'])\n",
    "regions = people_df[['region', 'manager']]"
   ]
  },
  {
   "cell_type": "markdown",
   "metadata": {},
   "source": [
    "### Establish connection"
   ]
  },
  {
   "cell_type": "code",
   "execution_count": 12,
   "metadata": {},
   "outputs": [],
   "source": [
    "client = bq.Client()"
   ]
  },
  {
   "cell_type": "markdown",
   "metadata": {},
   "source": [
    "### Repetitive functions"
   ]
  },
  {
   "cell_type": "code",
   "execution_count": 13,
   "metadata": {},
   "outputs": [],
   "source": [
    "# loads df into table\n",
    "# returns the destination of table being loaded\n",
    "def load_temp_table(df:'dataframe', table_name:str) -> tuple:\n",
    "\ttemp_table = f'explore29.superstore.{table_name}_tmp'\n",
    "\n",
    "\tjob_config = bq.LoadJobConfig(\n",
    "\t\twrite_disposition='WRITE_TRUNCATE',\n",
    "\t\tautodetect=True\n",
    "\t)\n",
    "\n",
    "\tjob = client.load_table_from_dataframe(\n",
    "\t\tdf,\n",
    "\t\ttemp_table,\n",
    "\t\tjob_config=job_config\n",
    "\t)\n",
    "\n",
    "\treturn (job.result(), temp_table)\n",
    "\n",
    "# gets column names for tables\n",
    "# adds src. suffix for table columns and return as str\n",
    "def get_col(df:'dataframe') ->tuple:\n",
    "\tcol_lst = list(df.columns)\n",
    "\tcol = ', '.join(col_lst)\n",
    "\n",
    "\tsrc_col = [f'src.{elem}' for elem in col_lst]\n",
    "\tsrc_col = ', '.join(src_col)\n",
    "\n",
    "\treturn(col, src_col)"
   ]
  },
  {
   "cell_type": "markdown",
   "metadata": {},
   "source": [
    "### Load and merge ```orders```"
   ]
  },
  {
   "cell_type": "code",
   "execution_count": 14,
   "metadata": {},
   "outputs": [],
   "source": [
    "temp_table = load_temp_table(orders, 'orders')[-1]\n",
    "columns, src_columns = get_col(orders)\n",
    "\n",
    "merge_query = f\"\"\"\n",
    "MERGE INTO explore29.superstore.orders  AS target\n",
    "USING `{temp_table}` AS src ON\n",
    "\ttarget.order_id = src.order_id\n",
    "\tAND target.product_id = src.product_id\n",
    "WHEN NOT MATCHED THEN\n",
    "INSERT ({columns})\n",
    "VALUES ({src_columns});\n",
    "DROP TABLE {temp_table};\n",
    "\"\"\"\n",
    "\n",
    "try:\n",
    "\tmerge = client.query(merge_query)\n",
    "\tmerge.result()\n",
    "except BadRequest as error:\n",
    "\tprint(f'Failed to load orders. {error}')"
   ]
  },
  {
   "cell_type": "markdown",
   "metadata": {},
   "source": [
    "### Load and merge ```customers```"
   ]
  },
  {
   "cell_type": "code",
   "execution_count": 15,
   "metadata": {},
   "outputs": [],
   "source": [
    "temp_table = load_temp_table(customers, 'customers')[-1]\n",
    "columns, src_columns = get_col(customers)\n",
    "\n",
    "merge_query = f\"\"\"\n",
    "MERGE INTO explore29.superstore.customers AS target\n",
    "USING `{temp_table}` AS src ON\n",
    "\ttarget.customer_id = src.customer_id\n",
    "WHEN NOT MATCHED THEN\n",
    "INSERT ({columns})\n",
    "VALUES ({src_columns});\n",
    "DROP TABLE {temp_table};\n",
    "\"\"\"\n",
    "\n",
    "try:\n",
    "\tmerge = client.query(merge_query)\n",
    "\tmerge.result()\n",
    "except BadRequest as error:\n",
    "\tprint(f'Failed to load customers. {error}')"
   ]
  },
  {
   "cell_type": "markdown",
   "metadata": {},
   "source": [
    "### Load and merge  ```products```"
   ]
  },
  {
   "cell_type": "code",
   "execution_count": 16,
   "metadata": {},
   "outputs": [],
   "source": [
    "temp_table = load_temp_table(products, 'products')[-1]\n",
    "columns, src_columns = get_col(products)\n",
    "\n",
    "merge_query = f\"\"\"\n",
    "MERGE INTO explore29.superstore.products AS target\n",
    "USING `{temp_table}` AS src ON\n",
    "\ttarget.product_id = src.product_id\n",
    "WHEN NOT MATCHED THEN\n",
    "INSERT ({columns})\n",
    "VALUES ({src_columns});\n",
    "DROP TABLE {temp_table};\n",
    "\"\"\"\n",
    "\n",
    "try:\n",
    "\tmerge = client.query(merge_query)\n",
    "\tmerge.result()\n",
    "except BadRequest as error:\n",
    "\tprint(f'Failed to load products. {error}')"
   ]
  },
  {
   "cell_type": "markdown",
   "metadata": {},
   "source": [
    "### Load and merge ```regions```"
   ]
  },
  {
   "cell_type": "code",
   "execution_count": 17,
   "metadata": {},
   "outputs": [],
   "source": [
    "temp_table = load_temp_table(regions, 'regions')[-1]\n",
    "columns, src_columns = get_col(regions)\n",
    "\n",
    "merge_query = f\"\"\"\n",
    "MERGE INTO explore29.superstore.regions AS target\n",
    "USING `{temp_table}` AS src ON\n",
    "\ttarget.region = src.region\n",
    "WHEN NOT MATCHED THEN\n",
    "INSERT ({columns})\n",
    "VALUES ({src_columns});\n",
    "DROP TABLE {temp_table};\n",
    "\"\"\"\n",
    "\n",
    "try:\n",
    "\tmerge = client.query(merge_query)\n",
    "\tmerge.result()\n",
    "except BadRequest as error:\n",
    "\tprint(f'Failed to load regions. {error}')"
   ]
  },
  {
   "cell_type": "markdown",
   "metadata": {},
   "source": [
    "---"
   ]
  },
  {
   "cell_type": "markdown",
   "metadata": {},
   "source": [
    "## Convert Notebook to Python script"
   ]
  },
  {
   "cell_type": "code",
   "execution_count": 18,
   "metadata": {},
   "outputs": [],
   "source": [
    "# !jupyter nbconvert --to python ingestion.ipynb"
   ]
  }
 ],
 "metadata": {
  "kernelspec": {
   "display_name": "Python 3",
   "language": "python",
   "name": "python3"
  },
  "language_info": {
   "codemirror_mode": {
    "name": "ipython",
    "version": 3
   },
   "file_extension": ".py",
   "mimetype": "text/x-python",
   "name": "python",
   "nbconvert_exporter": "python",
   "pygments_lexer": "ipython3",
   "version": "3.13.0"
  }
 },
 "nbformat": 4,
 "nbformat_minor": 2
}
